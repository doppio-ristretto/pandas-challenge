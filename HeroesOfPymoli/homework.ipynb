{
 "cells": [
  {
   "cell_type": "code",
   "execution_count": null,
   "metadata": {},
   "outputs": [],
   "source": [
    "import pandas as pd\n",
    "file_1 = \"Resources/purchase_data.csv\"\n",
    "purchase_data = pd.read_csv(file_1)\n",
    "money = '${0:,.2f}'"
   ]
  },
  {
   "cell_type": "code",
   "execution_count": null,
   "metadata": {},
   "outputs": [],
   "source": [
    "player_count = (purchase_data[\"SN\"].nunique())\n",
    "summary_df = pd.DataFrame({\"Total Players\": [player_count]})\n",
    "summary_df"
   ]
  },
  {
   "cell_type": "code",
   "execution_count": null,
   "metadata": {},
   "outputs": [],
   "source": [
    "items_unique = len(purchase_data[\"Item ID\"].unique())\n",
    "item_price_avg = (purchase_data[\"Price\"].mean())\n",
    "item_price_avg_convert = money.format(item_price_avg)\n",
    "first_purchase_count = (purchase_data[\"Purchase ID\"].count())\n",
    "total_revenue = purchase_data[\"Price\"].sum()\n",
    "total_revenue_convert = money.format(total_revenue)\n",
    "summary_df_2 = pd.DataFrame({\"Number of Unique Items\": [items_unique], \n",
    "                             \"Average Price\": [item_price_avg_convert],\n",
    "                             \"Number of Purchases\": [first_purchase_count],\n",
    "                            \"Total Revenue\": [total_revenue_convert]})\n",
    "summary_df_2"
   ]
  },
  {
   "cell_type": "code",
   "execution_count": null,
   "metadata": {},
   "outputs": [],
   "source": [
    "grouped = purchase_data.groupby(['Gender'])\n",
    "unique = grouped['SN'].nunique()\n",
    "percent = ((unique / player_count) * 100).round(2).astype(str) + '%'\n",
    "summary_df_3 = pd.DataFrame({'Total': unique, 'Percent': percent})\n",
    "summary_df_3"
   ]
  },
  {
   "cell_type": "code",
   "execution_count": null,
   "metadata": {},
   "outputs": [],
   "source": [
    "purchase_count = grouped['SN'].count()\n",
    "avg_price = grouped['Price'].mean()\n",
    "total_price = grouped['Price'].sum()\n",
    "avg_per = total_price / unique\n",
    "summary_df_4 = pd.DataFrame({'Purchase Count': purchase_count, \n",
    "                             'Average Purchase Price': avg_price, \n",
    "                             'Total Purchase Value': total_price, \n",
    "                             'Avg Total Purchase Per Person': avg_per})\n",
    "\n",
    "format_dict = {'Average Purchase Price': money,\n",
    "               'Total Purchase Value': money,\n",
    "               'Avg Total Purchase Per Person': money}\n",
    "summary_df_4.style.format(format_dict)"
   ]
  },
  {
   "cell_type": "code",
   "execution_count": null,
   "metadata": {},
   "outputs": [],
   "source": [
    "bins = [0, 9, 14, 19, 24, 29, 34, 39, 100000]\n",
    "group_names = ['<10', '10-14', '15-19', '20-24', '25-29', '30-34', '35-40', '40+']\n",
    "purchase_data['Age Group'] = pd.cut(purchase_data['Age'],bins, labels=group_names)\n",
    "age_grouped2 = purchase_data.groupby(\"Age Group\")\n",
    "totalcountagerange = age_grouped2['SN'].nunique()\n",
    "totalcountagerangepercent = ((totalcountagerange / player_count)*  100).round(2).astype(str) + '%'\n",
    "summary_df_5 = pd.DataFrame({'Total Count': totalcountagerange,\n",
    "                            'Percentage of Players': totalcountagerangepercent})\n",
    "summary_df_5"
   ]
  },
  {
   "cell_type": "code",
   "execution_count": null,
   "metadata": {},
   "outputs": [],
   "source": [
    "groupspend = age_grouped2['Price'].sum()\n",
    "groupcount = age_grouped2['Purchase ID'].count()\n",
    "groupavg = age_grouped2['Price'].mean()\n",
    "grouptotalper = groupspend / totalcountagerange\n",
    "summary_df_6 = pd.DataFrame({'Purchase Count': groupcount,\n",
    "                            'Average Purchase Price': groupavg,\n",
    "                            'Total Purchase Value': groupspend,\n",
    "                            'Avg Total Purchase per Person': grouptotalper})\n",
    "format_dict_3 = {'Average Purchase Price': money,\n",
    "                'Total Purchase Value': money,\n",
    "                'Avg Total Purchase per Person': money}\n",
    "summary_df_6.style.format(format_dict_3)"
   ]
  },
  {
   "cell_type": "code",
   "execution_count": null,
   "metadata": {},
   "outputs": [],
   "source": [
    "SNgrouped = purchase_data.groupby(\"SN\")\n",
    "SNpurchasecount = SNgrouped['Purchase ID'].count()\n",
    "SNavgprice = SNgrouped['Price'].mean()\n",
    "SNtotvalue = SNgrouped['Price'].sum()\n",
    "summary_df_7 = pd.DataFrame({'Purchase Count': SNpurchasecount,\n",
    "                            'Average Purchase Price': SNavgprice,\n",
    "                            'Total Purchase Value': SNtotvalue})\n",
    "summary_df_7_format = summary_df_7.sort_values(by='Total Purchase Value', ascending=False).head()\n",
    "format_dict_4 = {'Average Purchase Price': money,\n",
    "                'Total Purchase Value': money\n",
    "                }\n",
    "summary_df_7_format.style.format(format_dict_4)"
   ]
  },
  {
   "cell_type": "code",
   "execution_count": null,
   "metadata": {},
   "outputs": [],
   "source": [
    "newgroup = purchase_data.groupby([\"Item ID\", \"Item Name\"])\n",
    "count = newgroup['Purchase ID'].count()\n",
    "pricetotal = newgroup['Price'].sum()\n",
    "price = newgroup['Price'].mean()\n",
    "summary_df_8 = pd.DataFrame({'Purchase Count': count, 'Price': price, 'Total Purchase Value': pricetotal})\n",
    "summary_df_8_format = summary_df_8.sort_values(by='Purchase Count', ascending=False).head()\n",
    "format_dict_5 = {'Price': money,\n",
    "                'Total Purchase Value': money}\n",
    "summary_df_8_format.style.format(format_dict_5)"
   ]
  },
  {
   "cell_type": "code",
   "execution_count": null,
   "metadata": {},
   "outputs": [],
   "source": [
    "summary_df_9_format = summary_df_8.sort_values(by='Total Purchase Value', ascending=False).head()\n",
    "format_dict_6 = {'Price': money,\n",
    "                'Total Purchase Value': money}\n",
    "summary_df_9_format.style.format(format_dict_6)"
   ]
  }
 ],
 "metadata": {
  "kernelspec": {
   "display_name": "Python 3",
   "language": "python",
   "name": "python3"
  },
  "language_info": {
   "codemirror_mode": {
    "name": "ipython",
    "version": 3
   },
   "file_extension": ".py",
   "mimetype": "text/x-python",
   "name": "python",
   "nbconvert_exporter": "python",
   "pygments_lexer": "ipython3",
   "version": "3.7.6"
  }
 },
 "nbformat": 4,
 "nbformat_minor": 4
}
